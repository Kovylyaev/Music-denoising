{
 "cells": [
  {
   "cell_type": "code",
   "execution_count": 69,
   "id": "a1565cda2eee8afb",
   "metadata": {
    "ExecuteTime": {
     "end_time": "2025-04-11T17:57:37.000656Z",
     "start_time": "2025-04-11T17:57:36.997377Z"
    }
   },
   "outputs": [
    {
     "name": "stdout",
     "output_type": "stream",
     "text": [
      "Project root added: /Users/aleksandr/MMLS/Music_MMLS\n"
     ]
    }
   ],
   "source": [
    "import sys\n",
    "from pathlib import Path\n",
    "\n",
    "notebook_path = Path().resolve()\n",
    "project_root = notebook_path.parent\n",
    "sys.path.append(str(project_root))\n",
    "print('Project root added:', project_root)"
   ]
  },
  {
   "cell_type": "code",
   "execution_count": 70,
   "id": "69ee07e975eec5b1",
   "metadata": {
    "ExecuteTime": {
     "end_time": "2025-04-11T17:57:44.510661Z",
     "start_time": "2025-04-11T17:57:38.803189Z"
    }
   },
   "outputs": [],
   "source": [
    "import os\n",
    "import torch\n",
    "\n",
    "import wandb\n",
    "\n",
    "from Music_MMLS.data.ldatamodule import MusicDataModule\n",
    "from Music_MMLS.models.lmodule import MusicModel\n",
    "import lightning as L\n"
   ]
  },
  {
   "cell_type": "code",
   "execution_count": 71,
   "id": "hydra_config_cell",
   "metadata": {
    "ExecuteTime": {
     "end_time": "2025-04-11T17:57:49.830931Z",
     "start_time": "2025-04-11T17:57:49.682770Z"
    }
   },
   "outputs": [
    {
     "name": "stdout",
     "output_type": "stream",
     "text": [
      "Hydra Config:\n",
      "\n",
      "project:\n",
      "  name: Music_MMLS\n",
      "  seed: 42\n",
      "  device: cuda\n",
      "dataset:\n",
      "  size: 500\n",
      "  data_dir: ../content/sample_data/Data\n",
      "  clean_dir: ../content/sample_data/Data/all_records\n",
      "  noise_dir: ../content/sample_data/Data/noise\n",
      "  test_size: 0.2\n",
      "model:\n",
      "  model: UNet\n",
      "  n_channels: 1\n",
      "training:\n",
      "  epochs: 10\n",
      "  learning_rate: 0.001\n",
      "  batch_size: 4\n",
      "  precision: 32\n",
      "  optimizer: Adam\n",
      "  criterion: MSE\n",
      "  scheduler: ''\n",
      "\n"
     ]
    }
   ],
   "source": [
    "from hydra import initialize, compose\n",
    "from omegaconf import OmegaConf\n",
    "\n",
    "with initialize(config_path='../configs', job_name='demo', version_base='1.3'):\n",
    "    cfg = compose(config_name='config')\n",
    "\n",
    "print('Hydra Config:\\n')\n",
    "print(OmegaConf.to_yaml(cfg))"
   ]
  },
  {
   "cell_type": "code",
   "execution_count": 72,
   "id": "data_file_paths",
   "metadata": {
    "ExecuteTime": {
     "end_time": "2025-04-11T17:57:53.290513Z",
     "start_time": "2025-04-11T17:57:53.159500Z"
    }
   },
   "outputs": [
    {
     "name": "stdout",
     "output_type": "stream",
     "text": [
      "Found 275 clean files and 5000 noise files.\n"
     ]
    }
   ],
   "source": [
    "clean_files = [os.path.join(cfg.dataset.clean_dir, f)\n",
    "               for f in os.listdir(cfg.dataset.clean_dir) if f.endswith('.wav')]\n",
    "noise_files = [os.path.join(cfg.dataset.noise_dir, f) \n",
    "               for f in os.listdir(cfg.dataset.noise_dir) if f.endswith('.wav')]\n",
    "\n",
    "print(f'Found {len(clean_files)} clean files and {len(noise_files)} noise files.')"
   ]
  },
  {
   "cell_type": "code",
   "execution_count": 73,
   "id": "setup_training",
   "metadata": {
    "ExecuteTime": {
     "end_time": "2025-04-11T17:58:00.155692Z",
     "start_time": "2025-04-11T17:58:00.137541Z"
    }
   },
   "outputs": [
    {
     "ename": "TypeError",
     "evalue": "__init__() got an unexpected keyword argument 'model_config'",
     "output_type": "error",
     "traceback": [
      "\u001b[0;31m---------------------------------------------------------------------------\u001b[0m",
      "\u001b[0;31mTypeError\u001b[0m                                 Traceback (most recent call last)",
      "Cell \u001b[0;32mIn[73], line 6\u001b[0m\n\u001b[1;32m      3\u001b[0m lr \u001b[38;5;241m=\u001b[39m cfg\u001b[38;5;241m.\u001b[39mtraining\u001b[38;5;241m.\u001b[39mlearning_rate\n\u001b[1;32m      5\u001b[0m music_data_module \u001b[38;5;241m=\u001b[39m MusicDataModule(cfg\u001b[38;5;241m.\u001b[39mdataset, cfg\u001b[38;5;241m.\u001b[39mtraining\u001b[38;5;241m.\u001b[39mbatch_size)\n\u001b[0;32m----> 6\u001b[0m music_model_module \u001b[38;5;241m=\u001b[39m \u001b[43mMusicModel\u001b[49m\u001b[43m(\u001b[49m\u001b[43mmodel_config\u001b[49m\u001b[38;5;241;43m=\u001b[39;49m\u001b[43mcfg\u001b[49m\u001b[38;5;241;43m.\u001b[39;49m\u001b[43mmodel\u001b[49m\u001b[43m,\u001b[49m\u001b[43m \u001b[49m\u001b[43mtraining_config\u001b[49m\u001b[38;5;241;43m=\u001b[39;49m\u001b[43mcfg\u001b[49m\u001b[38;5;241;43m.\u001b[39;49m\u001b[43mtraining\u001b[49m\u001b[43m)\u001b[49m\n\u001b[1;32m      8\u001b[0m device \u001b[38;5;241m=\u001b[39m torch\u001b[38;5;241m.\u001b[39mdevice(cfg\u001b[38;5;241m.\u001b[39mproject\u001b[38;5;241m.\u001b[39mdevice \u001b[38;5;28;01mif\u001b[39;00m torch\u001b[38;5;241m.\u001b[39mcuda\u001b[38;5;241m.\u001b[39mis_available() \u001b[38;5;28;01melse\u001b[39;00m \u001b[38;5;124m'\u001b[39m\u001b[38;5;124mcpu\u001b[39m\u001b[38;5;124m'\u001b[39m)\n\u001b[1;32m      9\u001b[0m wandb_logger \u001b[38;5;241m=\u001b[39m wandb\u001b[38;5;241m.\u001b[39minit(\n\u001b[1;32m     10\u001b[0m     project\u001b[38;5;241m=\u001b[39mcfg\u001b[38;5;241m.\u001b[39mproject\u001b[38;5;241m.\u001b[39mname,\n\u001b[1;32m     11\u001b[0m     config\u001b[38;5;241m=\u001b[39mcfg,\n\u001b[1;32m     12\u001b[0m     name\u001b[38;5;241m=\u001b[39mcfg\u001b[38;5;241m.\u001b[39mproject\u001b[38;5;241m.\u001b[39mname\n\u001b[1;32m     13\u001b[0m )\n",
      "\u001b[0;31mTypeError\u001b[0m: __init__() got an unexpected keyword argument 'model_config'"
     ]
    }
   ],
   "source": [
    "batch_size = cfg.training.batch_size\n",
    "num_epochs = cfg.training.epochs\n",
    "lr = cfg.training.learning_rate\n",
    "\n",
    "music_data_module = MusicDataModule(cfg.dataset, cfg.training.batch_size)\n",
    "music_model_module = MusicModel(model_config=cfg.model, training_config=cfg.training)\n",
    "\n",
    "device = torch.device(cfg.project.device if torch.cuda.is_available() else 'cpu')\n",
    "wandb_logger = wandb.init(\n",
    "    project=cfg.project.name,\n",
    "    config=cfg,\n",
    "    name=cfg.project.name\n",
    ")\n",
    "\n",
    "trainer = L.Trainer(\n",
    "    max_epochs=cfg.training.epochs,\n",
    "    logger=wandb_logger,\n",
    "    devices=-1,\n",
    "    precision=cfg.training.precision\n",
    ")\n",
    "\n",
    "print(f'Training on {device} with batch size {batch_size} for {num_epochs} epochs.')"
   ]
  },
  {
   "cell_type": "code",
   "execution_count": null,
   "id": "training_loop",
   "metadata": {
    "ExecuteTime": {
     "end_time": "2025-04-11T18:02:56.288671Z",
     "start_time": "2025-04-11T18:02:47.776227Z"
    }
   },
   "outputs": [
    {
     "ename": "TypeError",
     "evalue": "fit() got an unexpected keyword argument 'datamodule'",
     "output_type": "error",
     "traceback": [
      "\u001b[0;31m---------------------------------------------------------------------------\u001b[0m",
      "\u001b[0;31mTypeError\u001b[0m                                 Traceback (most recent call last)",
      "Cell \u001b[0;32mIn[27], line 1\u001b[0m\n\u001b[0;32m----> 1\u001b[0m history \u001b[38;5;241m=\u001b[39m \u001b[43mtrainer\u001b[49m\u001b[38;5;241;43m.\u001b[39;49m\u001b[43mfit\u001b[49m\u001b[43m(\u001b[49m\n\u001b[1;32m      2\u001b[0m \u001b[43m    \u001b[49m\u001b[43mdatamodule\u001b[49m\u001b[38;5;241;43m=\u001b[39;49m\u001b[43mmusic_data_module\u001b[49m\u001b[43m,\u001b[49m\n\u001b[1;32m      3\u001b[0m \u001b[43m    \u001b[49m\u001b[43mnum_epochs\u001b[49m\u001b[38;5;241;43m=\u001b[39;49m\u001b[43mnum_epochs\u001b[49m\u001b[43m,\u001b[49m\n\u001b[1;32m      4\u001b[0m \u001b[43m    \u001b[49m\u001b[43msave_best_path\u001b[49m\u001b[38;5;241;43m=\u001b[39;49m\u001b[38;5;124;43m\"\u001b[39;49m\u001b[38;5;124;43m../checkpoints/unet_final\u001b[39;49m\u001b[38;5;124;43m\"\u001b[39;49m\n\u001b[1;32m      5\u001b[0m \u001b[43m)\u001b[49m\n\u001b[1;32m      7\u001b[0m \u001b[38;5;28mprint\u001b[39m(\u001b[38;5;124m\"\u001b[39m\u001b[38;5;124mTraining complete. Final training history:\u001b[39m\u001b[38;5;124m\"\u001b[39m)\n\u001b[1;32m      8\u001b[0m \u001b[38;5;28mprint\u001b[39m(history)\n",
      "\u001b[0;31mTypeError\u001b[0m: fit() got an unexpected keyword argument 'datamodule'"
     ]
    }
   ],
   "source": [
    "history = trainer.fit(\n",
    "    \n",
    "    datamodule=music_data_module,\n",
    "    num_epochs=num_epochs,\n",
    "    save_best_path=\"../checkpoints/unet_final\"\n",
    ")\n",
    "\n",
    "print(\"Training complete. Final training history:\")\n",
    "print(history)"
   ]
  },
  {
   "cell_type": "code",
   "execution_count": null,
   "metadata": {},
   "outputs": [],
   "source": []
  },
  {
   "cell_type": "code",
   "execution_count": null,
   "metadata": {},
   "outputs": [],
   "source": []
  },
  {
   "cell_type": "code",
   "execution_count": null,
   "metadata": {},
   "outputs": [],
   "source": []
  },
  {
   "cell_type": "code",
   "execution_count": null,
   "metadata": {},
   "outputs": [],
   "source": []
  },
  {
   "cell_type": "code",
   "execution_count": null,
   "metadata": {},
   "outputs": [],
   "source": []
  }
 ],
 "metadata": {
  "kernelspec": {
   "display_name": ".venv",
   "language": "python",
   "name": "python3"
  },
  "language_info": {
   "codemirror_mode": {
    "name": "ipython",
    "version": 3
   },
   "file_extension": ".py",
   "mimetype": "text/x-python",
   "name": "python",
   "nbconvert_exporter": "python",
   "pygments_lexer": "ipython3",
   "version": "3.9.6"
  }
 },
 "nbformat": 4,
 "nbformat_minor": 2
}
