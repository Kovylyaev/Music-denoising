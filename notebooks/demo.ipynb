{
 "cells": [
  {
   "cell_type": "code",
   "execution_count": 2,
   "id": "a1565cda2eee8afb",
   "metadata": {
    "ExecuteTime": {
     "end_time": "2025-04-11T17:57:37.000656Z",
     "start_time": "2025-04-11T17:57:36.997377Z"
    }
   },
   "outputs": [
    {
     "name": "stdout",
     "output_type": "stream",
     "text": [
      "Project root added: /Users/arimmean/Desktop/Music_MMLS\n"
     ]
    }
   ],
   "source": [
    "import sys\n",
    "from pathlib import Path\n",
    "\n",
    "%load_ext autoreload\n",
    "%autoreload 2\n",
    "\n",
    "notebook_path = Path().resolve()\n",
    "project_root = notebook_path.parent\n",
    "sys.path.append(str(project_root))\n",
    "print('Project root added:', project_root)"
   ]
  },
  {
   "cell_type": "code",
   "execution_count": 3,
   "id": "69ee07e975eec5b1",
   "metadata": {
    "ExecuteTime": {
     "end_time": "2025-04-11T17:57:44.510661Z",
     "start_time": "2025-04-11T17:57:38.803189Z"
    }
   },
   "outputs": [
    {
     "name": "stderr",
     "output_type": "stream",
     "text": [
      "/Users/arimmean/Desktop/Music_MMLS/.venv/lib/python3.9/site-packages/urllib3/__init__.py:35: NotOpenSSLWarning: urllib3 v2 only supports OpenSSL 1.1.1+, currently the 'ssl' module is compiled with 'LibreSSL 2.8.3'. See: https://github.com/urllib3/urllib3/issues/3020\n",
      "  warnings.warn(\n",
      "/Users/arimmean/Desktop/Music_MMLS/.venv/lib/python3.9/site-packages/pydub/utils.py:170: RuntimeWarning: Couldn't find ffmpeg or avconv - defaulting to ffmpeg, but may not work\n",
      "  warn(\"Couldn't find ffmpeg or avconv - defaulting to ffmpeg, but may not work\", RuntimeWarning)\n"
     ]
    }
   ],
   "source": [
    "import os\n",
    "import torch\n",
    "\n",
    "from lightning.pytorch.loggers import WandbLogger\n",
    "\n",
    "from Music_MMLS.data.ldatamodule import MusicDataModule\n",
    "from Music_MMLS.models.lmodule import MusicModelModule\n",
    "import lightning as L\n"
   ]
  },
  {
   "cell_type": "code",
   "execution_count": 4,
   "id": "hydra_config_cell",
   "metadata": {
    "ExecuteTime": {
     "end_time": "2025-04-11T17:57:49.830931Z",
     "start_time": "2025-04-11T17:57:49.682770Z"
    }
   },
   "outputs": [
    {
     "name": "stdout",
     "output_type": "stream",
     "text": [
      "Hydra Config:\n",
      "\n",
      "project:\n",
      "  name: Music_MMLS\n",
      "  seed: 42\n",
      "  device: cuda\n",
      "  wandb_entity: sasha_kovylyaev-hse\n",
      "  experiment_name: default\n",
      "dataset:\n",
      "  size: 500\n",
      "  data_dir: ../content/sample_data/Data\n",
      "  clean_dir: ../content/sample_data/Data/all_records\n",
      "  noise_dir: ../content/sample_data/Data/noise\n",
      "  test_size: 0.2\n",
      "model:\n",
      "  model: UNet\n",
      "  n_channels: 1\n",
      "training:\n",
      "  epochs: 10\n",
      "  learning_rate: 0.001\n",
      "  batch_size: 4\n",
      "  precision: 32\n",
      "  optimizer: Adam\n",
      "  criterion: MSE\n",
      "  scheduler: ''\n",
      "\n"
     ]
    }
   ],
   "source": [
    "from hydra import initialize, compose\n",
    "from omegaconf import OmegaConf\n",
    "\n",
    "with initialize(config_path='../configs', job_name='demo', version_base='1.3'):\n",
    "    cfg = compose(config_name='config')\n",
    "\n",
    "print('Hydra Config:\\n')\n",
    "print(OmegaConf.to_yaml(cfg))"
   ]
  },
  {
   "cell_type": "code",
   "execution_count": 5,
   "id": "data_file_paths",
   "metadata": {
    "ExecuteTime": {
     "end_time": "2025-04-11T17:57:53.290513Z",
     "start_time": "2025-04-11T17:57:53.159500Z"
    }
   },
   "outputs": [
    {
     "name": "stdout",
     "output_type": "stream",
     "text": [
      "Found 999 clean files and 5000 noise files.\n"
     ]
    }
   ],
   "source": [
    "clean_files = [os.path.join(cfg.dataset.clean_dir, f)\n",
    "               for f in os.listdir(cfg.dataset.clean_dir) if f.endswith('.wav')]\n",
    "noise_files = [os.path.join(cfg.dataset.noise_dir, f) \n",
    "               for f in os.listdir(cfg.dataset.noise_dir) if f.endswith('.wav')]\n",
    "\n",
    "print(f'Found {len(clean_files)} clean files and {len(noise_files)} noise files.')"
   ]
  },
  {
   "cell_type": "code",
   "execution_count": null,
   "id": "setup_training",
   "metadata": {
    "ExecuteTime": {
     "end_time": "2025-04-11T17:58:00.155692Z",
     "start_time": "2025-04-11T17:58:00.137541Z"
    }
   },
   "outputs": [],
   "source": [
    "batch_size = cfg.training.batch_size\n",
    "num_epochs = cfg.training.epochs\n",
    "lr = cfg.training.learning_rate\n",
    "\n",
    "music_data_module = MusicDataModule(cfg.dataset, cfg.training.batch_size)\n",
    "music_model_module = MusicModelModule(cfg.model, cfg.training)\n",
    "\n",
    "device = torch.device(cfg.project.device if torch.cuda.is_available() else 'cpu')\n",
    "\n",
    "wandb_config = OmegaConf.to_container(\n",
    "    cfg, resolve=True, throw_on_missing=True\n",
    ")\n",
    "\n",
    "wandb_logger = WandbLogger(project=cfg.project.name, name=cfg.project.experiment_name, log_model='all', dir='../checkpoints')\n",
    "wandb_logger.log_hyperparams(wandb_config)\n",
    "\n",
    "trainer = L.Trainer(\n",
    "    max_epochs=cfg.training.epochs,\n",
    "    logger=wandb_logger,\n",
    "    devices=-1,\n",
    "    precision=cfg.training.precision\n",
    ")\n",
    "\n",
    "print(f'Training on {device} with batch size {batch_size} for {num_epochs} epochs.')"
   ]
  },
  {
   "cell_type": "code",
   "execution_count": null,
   "id": "training_loop",
   "metadata": {
    "ExecuteTime": {
     "end_time": "2025-04-11T18:02:56.288671Z",
     "start_time": "2025-04-11T18:02:47.776227Z"
    }
   },
   "outputs": [],
   "source": [
    "\n",
    "trainer.fit(\n",
    "    music_model_module,\n",
    "    datamodule=music_data_module,\n",
    ")\n",
    "\n",
    "print(\"Training complete.\")"
   ]
  },
  {
   "cell_type": "code",
   "execution_count": null,
   "metadata": {},
   "outputs": [],
   "source": []
  },
  {
   "cell_type": "code",
   "execution_count": null,
   "metadata": {},
   "outputs": [],
   "source": []
  },
  {
   "cell_type": "code",
   "execution_count": null,
   "metadata": {},
   "outputs": [],
   "source": []
  },
  {
   "cell_type": "code",
   "execution_count": null,
   "metadata": {},
   "outputs": [],
   "source": []
  },
  {
   "cell_type": "code",
   "execution_count": null,
   "metadata": {},
   "outputs": [],
   "source": []
  },
  {
   "cell_type": "code",
   "execution_count": null,
   "metadata": {},
   "outputs": [],
   "source": []
  },
  {
   "cell_type": "code",
   "execution_count": null,
   "metadata": {},
   "outputs": [],
   "source": []
  }
 ],
 "metadata": {
  "kernelspec": {
   "display_name": ".venv",
   "language": "python",
   "name": "python3"
  },
  "language_info": {
   "codemirror_mode": {
    "name": "ipython",
    "version": 3
   },
   "file_extension": ".py",
   "mimetype": "text/x-python",
   "name": "python",
   "nbconvert_exporter": "python",
   "pygments_lexer": "ipython3",
   "version": "3.9.6"
  }
 },
 "nbformat": 4,
 "nbformat_minor": 2
}
